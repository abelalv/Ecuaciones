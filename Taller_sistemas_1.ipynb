{
 "cells": [
  {
   "cell_type": "markdown",
   "id": "d8be6ec7",
   "metadata": {},
   "source": [
    "# Solución gerenal de sistemas \n",
    "\n",
    "$$\\frac{d}{dt}\\begin{bmatrix}x(t)\\\\y(t)\\end{bmatrix}=\\begin{bmatrix}a_{11}&a_{12}\\\\a_{21}&a_{22}y(t)\\end{bmatrix}\\begin{bmatrix}x(t)\\\\y(t)\\end{bmatrix}$$\n",
    "\n",
    "## Caso 1, Si los autovalores son reales y la dimesión geometrica y algebraica coinciden \n",
    "\n",
    "\n",
    "\n",
    "Tiene dos autovalores $\\lambda_1$ y $\\lambda_2$ y dos autovectores $V_1=\\begin{bmatrix}v_{11}\\\\v_{21}\\end{bmatrix}$  y $V_2=\\begin{bmatrix}v_{12}\\\\v_{22}\\end{bmatrix}$ entoces las solución general es \n",
    "\n",
    "$$\\begin{align}\\begin{bmatrix}x(t)\\\\y(t)\\end{bmatrix}&=c_1V_1e^{\\lambda_1 t}+c_2V_2e^{\\lambda_2 t}\\\\\n",
    "&=c_1\\begin{bmatrix}v_{11}\\\\v_{21}\\end{bmatrix}e^{\\lambda_1 t}+c_2\\begin{bmatrix}v_{12}\\\\v_{22}\\end{bmatrix}e^{\\lambda_2 t}\\end{align}$$"
   ]
  },
  {
   "cell_type": "markdown",
   "id": "9ec29433",
   "metadata": {},
   "source": [
    "## Caso 2, Si los autovalores son reales y la dimesión geometrica y algebraica  no coinciden \n",
    "\n",
    "\n",
    "Tiene un autovalor $\\lambda$ y un autovector $V=\\begin{bmatrix}v_{1}\\\\v_{2}\\end{bmatrix}$  y el autovalor generalizado $P=\\begin{bmatrix}p_{1}\\\\p_{2}\\end{bmatrix}$ entoces las solución general es \n",
    "\n",
    "$$\\begin{align}\\begin{bmatrix}x(t)\\\\y(t)\\end{bmatrix}&=c_1Ve^{\\lambda t}+c_2\\Big(Vte^{\\lambda t}+Pe^{\\lambda t}\\Big)\\\\\n",
    "&=c_1\\begin{bmatrix}v_{1}\\\\v_{2}\\end{bmatrix}e^{\\lambda t}+c_2\\Big(\\begin{bmatrix}v_{1}\\\\v_{2}\\end{bmatrix}te^{\\lambda t}+\\begin{bmatrix}p_{1}\\\\p_{2}\\end{bmatrix}e^{\\lambda t}\\Big)\\end{align}$$"
   ]
  },
  {
   "cell_type": "markdown",
   "id": "7d0110d9",
   "metadata": {},
   "source": [
    "## Caso 3, si los autovalores son complejos\n",
    "tiene dos autovalores $\\lambda=\\alpha+i\\beta$ y $\\overline{\\lambda}=\\alpha-i\\beta$ y dos autovectores $$V=\\begin{bmatrix}a_{1}+ib_1\\\\a_{2}+ib_2\\end{bmatrix}=\\begin{bmatrix}a_{1}\\\\a_{2}\\end{bmatrix}+i\\begin{bmatrix}b_{1}\\\\b_{2}\\end{bmatrix}$$\n",
    "y \n",
    "\n",
    "$$\\overline{V}=\\begin{bmatrix}a_{1}-ib_1\\\\a_{2}-ib_2\\end{bmatrix}=\\begin{bmatrix}a_{1}\\\\a_{2}\\end{bmatrix}-i\\begin{bmatrix}b_{1}\\\\b_{2}\\end{bmatrix}$$ \n",
    "\n",
    "Tomemos $$A=\\begin{bmatrix}a_{1}\\\\a_{2}\\end{bmatrix}\\text{ y }B=\\begin{bmatrix}b_{1}\\\\b_{2}\\end{bmatrix}$$\n",
    "La solución general es la suma de la solución real y la compleja\n",
    "\n",
    "$$\\begin{bmatrix}x(t)\\\\y(t)\\end{bmatrix}=c_1X_1+c_2X_2$$\n",
    "donde \n",
    "$$X_1=\\Big(\\begin{bmatrix}a_{1}\\\\a_{2}\\end{bmatrix}\\cos(\\beta t)-\\begin{bmatrix}b_{1}\\\\b_{2}\\end{bmatrix}\\sin(\\beta t)\\Big)e^{\\alpha t}$$\n",
    "$$X_2=\\Big(\\begin{bmatrix}b_{1}\\\\b_{2}\\end{bmatrix}\\cos(\\beta t)-\\begin{bmatrix}a_{1}\\\\a_{2}\\end{bmatrix}\\sin(\\beta t)\\Big)e^{\\alpha t}$$"
   ]
  },
  {
   "cell_type": "markdown",
   "id": "12c37c0f",
   "metadata": {},
   "source": [
    "# Ejercicios \n",
    "1. Determine la solución general del sistema [puede usar la calculadora de eigenvalores](https://matrixcalc.org/es/vectors.html#eigenvectors(%7B%7B2,3%7D,%7B1,3%7D%7D))\n",
    "\n",
    "    a. $\\begin{align}\\frac{dx}{dt}&=2x+2y\\\\\\frac{dy}{dt}&=3x+3y\\end{align}$\n",
    "    \n",
    "    b. $\\begin{align}\\frac{dx}{dt}&=\\frac{-5}{2}x+2y\\\\\\frac{dy}{dt}&=\\frac{4}{3}x-2y\\end{align}$\n",
    "    \n",
    "    c. $\\begin{align}\\frac{dx}{dt}&=-6x+2y\\\\\\frac{dy}{dt}&=-3x+y\\end{align}$\n",
    "    \n",
    "    d. $\\begin{align}\\frac{dx}{dt}&=3x-y\\\\\\frac{dy}{dt}&=9x-3y\\end{align}$\n",
    "    \n",
    "    e. $\\begin{align}\\frac{dx}{dt}&=-6x+5y\\\\\\frac{dy}{dt}&=-5x+4y\\end{align}$\n",
    "    \n",
    "    f. $\\begin{align}\\frac{dx}{dt}&=6x-y\\\\\\frac{dy}{dt}&=5x+2y\\end{align}$\n",
    "    \n",
    "    d. $\\begin{align}\\frac{dx}{dt}&=5x+y\\\\\\frac{dy}{dt}&=-2x+3y\\end{align}$"
   ]
  },
  {
   "cell_type": "markdown",
   "id": "897de76e",
   "metadata": {},
   "source": [
    "2. Determine los diagramas de fase de los ejercicios anteriores\n",
    "\n",
    "3. Clasifique los diagras de fase segun la siguiente figura\n"
   ]
  },
  {
   "cell_type": "markdown",
   "id": "96807307",
   "metadata": {},
   "source": [
    "![download.jpeg](data:image/jpeg;base64,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)"
   ]
  },
  {
   "cell_type": "markdown",
   "id": "de32a0da",
   "metadata": {},
   "source": [
    "\n",
    "4. Resuelva los problemas de valor inicial \n",
    "\n",
    "    a. $\\begin{align}\\frac{dx}{dt}&=6x-y\\\\\\frac{dy}{dt}&=5x+4y\\end{align}$ con $\\begin{bmatrix}x(0)\\\\y(0)\\end{bmatrix}=\\begin{bmatrix}-2\\\\8\\end{bmatrix}$\n",
    "    \n",
    "     b. $\\begin{align}\\frac{dx}{dt}&=\\frac{1}{2}x\\\\\\frac{dy}{dt}&=x-\\frac{1}{2}y\\end{align}$ con $\\begin{bmatrix}x(0)\\\\y(0)\\end{bmatrix}=\\begin{bmatrix}3\\\\5\\end{bmatrix}$"
   ]
  }
 ],
 "metadata": {
  "kernelspec": {
   "display_name": "Python 3 (ipykernel)",
   "language": "python",
   "name": "python3"
  },
  "language_info": {
   "codemirror_mode": {
    "name": "ipython",
    "version": 3
   },
   "file_extension": ".py",
   "mimetype": "text/x-python",
   "name": "python",
   "nbconvert_exporter": "python",
   "pygments_lexer": "ipython3",
   "version": "3.9.7"
  }
 },
 "nbformat": 4,
 "nbformat_minor": 5
}
