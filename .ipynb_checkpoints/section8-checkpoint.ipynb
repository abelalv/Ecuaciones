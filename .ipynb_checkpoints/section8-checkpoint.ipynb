{
 "cells": [
  {
   "cell_type": "code",
   "execution_count": null,
   "id": "eb56521d",
   "metadata": {},
   "outputs": [],
   "source": []
  },
  {
   "cell_type": "markdown",
   "id": "63858ae4",
   "metadata": {},
   "source": [
    "# Solución de sistemas de Ecuaciones lineales \n",
    "Usando Sympy"
   ]
  },
  {
   "cell_type": "code",
   "execution_count": 5,
   "id": "e6099d57",
   "metadata": {},
   "outputs": [],
   "source": [
    "from sympy import *\n",
    "from sympy import symbols, Eq, Function\n",
    "from sympy.solvers.ode.systems import dsolve_system\n",
    "from sympy.plotting import plot\n",
    "\n",
    "dsolve_system(eqs)\n",
    "\n",
    "init_printing(use_unicode=True)\n",
    "\n",
    "f, g = symbols(\"f g\", cls=Function)\n",
    "\n",
    "x = symbols(\"x\")"
   ]
  },
  {
   "cell_type": "code",
   "execution_count": 7,
   "id": "66e220c5",
   "metadata": {},
   "outputs": [
    {
     "data": {
      "image/png": "[encoded data removed]",
      "text/latex": [
       "$\\displaystyle \\left[ \\left[ f{\\left(x \\right)} = - C_{1} e^{- x} + C_{2} e^{x}, \\  g{\\left(x \\right)} = C_{1} e^{- x} + C_{2} e^{x}\\right]\\right]$"
      ],
      "text/plain": [
       "⎡⎡             -x       x             -x       x⎤⎤\n",
       "⎣⎣f(x) = - C₁⋅ℯ   + C₂⋅ℯ , g(x) = C₁⋅ℯ   + C₂⋅ℯ ⎦⎦"
      ]
     },
     "execution_count": 7,
     "metadata": {},
     "output_type": "execute_result"
    }
   ],
   "source": [
    "eqs = [Eq(f(x).diff(x), g(x)), Eq(g(x).diff(x), f(x))]\n",
    "\n",
    "dsolve_system(eqs)\n"
   ]
  },
  {
   "cell_type": "code",
   "execution_count": 8,
   "id": "a933126e",
   "metadata": {},
   "outputs": [
    {
     "data": {
      "image/png": "[encoded data removed]",
      "text/latex": [
       "$\\displaystyle \\left[ \\left[ f{\\left(x \\right)} = \\frac{e^{x}}{2} + \\frac{e^{- x}}{2}, \\  g{\\left(x \\right)} = \\frac{e^{x}}{2} - \\frac{e^{- x}}{2}\\right]\\right]$"
      ],
      "text/plain": [
       "⎡⎡        x    -x          x    -x⎤⎤\n",
       "⎢⎢       ℯ    ℯ           ℯ    ℯ  ⎥⎥\n",
       "⎢⎢f(x) = ── + ───, g(x) = ── - ───⎥⎥\n",
       "⎣⎣       2     2          2     2 ⎦⎦"
      ]
     },
     "execution_count": 8,
     "metadata": {},
     "output_type": "execute_result"
    }
   ],
   "source": [
    "\n",
    "dsolve_system(eqs, ics={f(0): 1, g(0): 0})"
   ]
  },
  {
   "cell_type": "code",
   "execution_count": 9,
   "id": "2e854909",
   "metadata": {},
   "outputs": [
    {
     "data": {
      "image/png": "[encoded data removed]",
      "text/plain": [
       "<Figure size 432x288 with 1 Axes>"
      ]
     },
     "metadata": {
      "needs_background": "light"
     },
     "output_type": "display_data"
    },
    {
     "data": {
      "text/plain": [
       "<sympy.plotting.plot.Plot at 0x7fc3616961f0>"
      ]
     },
     "execution_count": 9,
     "metadata": {},
     "output_type": "execute_result"
    }
   ],
   "source": [
    "plot(0.5*(exp(x)+exp(-x))"
   ]
  }
 ],
 "metadata": {
  "kernelspec": {
   "display_name": "Python 3 (ipykernel)",
   "language": "python",
   "name": "python3"
  },
  "language_info": {
   "codemirror_mode": {
    "name": "ipython",
    "version": 3
   },
   "file_extension": ".py",
   "mimetype": "text/x-python",
   "name": "python",
   "nbconvert_exporter": "python",
   "pygments_lexer": "ipython3",
   "version": "3.10.4"
  }
 },
 "nbformat": 4,
 "nbformat_minor": 5
}
