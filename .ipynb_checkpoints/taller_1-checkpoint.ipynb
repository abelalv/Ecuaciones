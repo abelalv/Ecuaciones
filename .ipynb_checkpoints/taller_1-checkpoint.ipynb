{
 "cells": [
  {
   "cell_type": "markdown",
   "metadata": {
    "id": "5MSKh5GeSJdo"
   },
   "source": [
    "# Taller de Repaso"
   ]
  },
  {
   "cell_type": "markdown",
   "metadata": {
    "id": "q5pj8q4ASNN9"
   },
   "source": [
    "Resuelva las siguientes ecuaciones \n",
    "1. $\\frac{dy}{dx}=\\sin5x$\n",
    "2. $y\\ln x\\frac{dy}{dx}=\\Big(\\frac{y+1}{x}\\Big)^2$\n",
    "3. $x(1+y^2)^{1/2}+2y\\cos^33x\\frac{dy}{dx}$\n",
    "4. $\\frac{dy}{dx}=\\frac{2x+1}{2y}$, con las condiciones $y(-2)=-1$\n",
    "5. $\\frac{dy}{dt}=y^2\\sin t^2$ con la condicióninicial $y(-2)=\\frac{1}{3}$\n",
    "6. $\\frac{dy}{dx}=\\frac{xy+2y-x-2}{xy-3y+x-3}$ con la condición inicial $y(0)=1$"
   ]
  },
  {
   "cell_type": "markdown",
   "metadata": {
    "id": "JB_UYe3cYGKY"
   },
   "source": [
    "Resuelva las siguientes ecuaciones e indique el intervalo I más largo en\n",
    "el que está defi nida la solución general.\n",
    "\n",
    "1. $x\\frac{dy}{dx}-4y=x^6e^x$.\n",
    "2. $\\frac{dy}{dx}-3y=6$.\n",
    "3. $\\frac{dy}{dx}-2xy=2$.\n",
    "4. $x\\frac{dy}{dx}+2y=3$.\n",
    "5. $\\frac{dy}{dx}+y=e^{3x}$.\n",
    "6. $x^2y'+x(x+2)y=e^x$.\n",
    "7. $\\frac{dy}{dx}+2xy=f(x)$ con $f(x)=\\begin{cases}x \\text{ si } 0\\leq x\\leq 1\\\\\n",
    "0\\text{ si }x> 1\\end{cases}$, con $y(0)=2$.\n",
    "\n",
    "8. $\\frac{dy}{dx}+2xy=f(x)$ con $f(x)=\\begin{cases}1 \\text{ si } 0\\leq x\\leq 3\\\\\n",
    "-1\\text{ si }x> 3\\end{cases}$ con $y(0)=1$.\n",
    "\n",
    "9. $(1+x^2)\\frac{dy}{dx}+2xy=f(x)$ con $f(x)=\\begin{cases}x \\text{ si } 0\\leq x\\leq 1\\\\\n",
    "-x\\text{ si }x> 1\\end{cases}$ con $y(0)=0$."
   ]
  },
  {
   "cell_type": "markdown",
   "metadata": {
    "id": "RO8DoXala4wK"
   },
   "source": [
    "Realice el bosquejo del campo de pendientes de las siguientes ecuaciones \n",
    "\n",
    "1. $\\frac{dy}{dt}=4y^2$\n",
    "2. $\\frac{dy}{dt}=2y(1-y)$\n",
    "3. Considere la ecución diferencial autonoma \n",
    "$$\\frac{dS}{dt}=S^3-2S^2+S$$\n",
    "\n",
    "  a. A mano, haga un croquis burdo del campo de pendientes\n",
    "  \n",
    "  b. Usando este croquis, delinee las gráficas de las soluciones $S(t)$ con las condiciones iniciales $S(0)=0$, $S(1)=1/2$,$S(0)=1/2$, $S(0)=3/2$y $S(0)=-1/2$\n",
    "\n",
    "4. Suponga que sabemos que una función $f(t,y)$ e continua en $f(t,3)=-1$ para todo t. \n",
    "  \n",
    "    a. ¿Qué nos dice esta información sobre el campo de pendientes para la ecución diferencial $dy/dt=f(t,y)$?\n",
    "\n",
    "    b. ¿Qué puede usted concluir sobre las soluciones $y(t)$ de  $dy/dt=f(t,y)$? Por ejemplo, si $y(0)<3$, ¿puede $y(t)\\to\\infty$"
   ]
  },
  {
   "cell_type": "markdown",
   "metadata": {
    "id": "Z56x55JOduPZ"
   },
   "source": [
    "Resuelva los siguientes problemas \n",
    "\n",
    "1. Un déposito contiene 100 galones de agua contaminada en los que estan disueltos 15 libras de contaminante. el agua contaminda empieza a fluir al déposito a una tasa de 10 gal por minuto. La concentración del contaminante en esta corriente de entrada en el instante $t$ es $c(t)$ libras por galón. La solución del deposito se mezcla de manera uniforme y el agua contaminada fluye a la tasa de 10 gal por minuto. Obtenga un problema de valor inicail para la cantidad de contaminante $y(t)$ en el déposito.\n",
    "\n",
    "2. Se bombea agua residual contaminada a razón de 1 gal/min en un déposito que contiene 100 gal de agua y sale del déposito una mezcla uniforme a la misma tasa\n",
    "  a. Cálcule la cantidad $y(t)$ de desechos en el deposito en el instante t. ¿Qué sucede caundo $t\\to infty$\n",
    "  b. ¿cúanto tardará la concentración de desechos en alcanzar 20%de su  nivel máximo?\n",
    "  c. Después de una hora se detiene la entrada de agua residual y se bombea una agua limpia a razón de 1 gal/min. Utilice una función a trozos y construya un Problema de valor inicial que modelice la situación. Busqueje el campo de pendientes para trazar la gráfica en el intervalo de tiempo $0\\leq t \\leq 1500$. ¿Qué ocurre cuando $t\\to \\infty$"
   ]
  }
 ],
 "metadata": {
  "colab": {
   "authorship_tag": "ABX9TyMmFnFtqcEE021ptZCrSJQn",
   "collapsed_sections": [],
   "name": "taller.ipynb",
   "provenance": []
  },
  "kernelspec": {
   "display_name": "Python 3 (ipykernel)",
   "language": "python",
   "name": "python3"
  },
  "language_info": {
   "codemirror_mode": {
    "name": "ipython",
    "version": 3
   },
   "file_extension": ".py",
   "mimetype": "text/x-python",
   "name": "python",
   "nbconvert_exporter": "python",
   "pygments_lexer": "ipython3",
   "version": "3.9.7"
  }
 },
 "nbformat": 4,
 "nbformat_minor": 1
}
