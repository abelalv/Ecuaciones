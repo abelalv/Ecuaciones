{
 "cells": [
  {
   "cell_type": "markdown",
   "id": "655b89f0",
   "metadata": {},
   "source": [
    "# Solución lineal de prmer orden \n",
    "\n",
    "una ecuación diferenacial homogenea de primer orden es de la forma \n",
    "\n",
    "$$a(t)y'+b(t)y=c(t)$$\n",
    "si $a(t)\\ne 0$ enonces podemos transformar la ecuación de la forma \n",
    "\n",
    "$$y'(t)+p(t)y(t)=q(t)$$\n",
    "\n",
    "Note que si $q(t)=0$, podemos buscar un factor de integración de la forma \n"
   ]
  },
  {
   "cell_type": "code",
   "execution_count": null,
   "id": "90eb07b4",
   "metadata": {},
   "outputs": [],
   "source": []
  }
 ],
 "metadata": {
  "kernelspec": {
   "display_name": "Python 3 (ipykernel)",
   "language": "python",
   "name": "python3"
  },
  "language_info": {
   "codemirror_mode": {
    "name": "ipython",
    "version": 3
   },
   "file_extension": ".py",
   "mimetype": "text/x-python",
   "name": "python",
   "nbconvert_exporter": "python",
   "pygments_lexer": "ipython3",
   "version": "3.9.7"
  },
  "latex_envs": {
   "LaTeX_envs_menu_present": true,
   "autoclose": false,
   "autocomplete": true,
   "bibliofile": "biblio.bib",
   "cite_by": "apalike",
   "current_citInitial": 1,
   "eqLabelWithNumbers": true,
   "eqNumInitial": 1,
   "hotkeys": {
    "equation": "Ctrl-E",
    "itemize": "Ctrl-I"
   },
   "labels_anchors": false,
   "latex_user_defs": false,
   "report_style_numbering": false,
   "user_envs_cfg": false
  }
 },
 "nbformat": 4,
 "nbformat_minor": 5
}
