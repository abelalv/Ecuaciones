{
 "cells": [
  {
   "cell_type": "code",
   "execution_count": null,
   "id": "b0cb0af7",
   "metadata": {},
   "outputs": [],
   "source": [
    "import numpy as np\n",
    "import matplotlib.pyplot as plt\n",
    "from scipy import integrate\n",
    "from sympy import *\n",
    "init_printing(use_unicode=True)"
   ]
  },
  {
   "cell_type": "markdown",
   "id": "06da5351",
   "metadata": {},
   "source": [
    "# Vamos resolver la ecuación\n",
    "\n",
    "$$ \\frac{dT(t)}{dt}=-k(T(t)-T_a) \\text{ con el valor inicial } T(0)=T-0$$"
   ]
  },
  {
   "cell_type": "code",
   "execution_count": 7,
   "id": "2fd25a72",
   "metadata": {},
   "outputs": [],
   "source": [
    "t, k, T0, Ta = sympy.symbols('t, k, T_0, T_a') # valores que involucran la función\n",
    "\n",
    "T = sympy.Function('T') # Función que queremos aproximar\n"
   ]
  },
  {
   "cell_type": "code",
   "execution_count": 8,
   "id": "3f2c0f61",
   "metadata": {},
   "outputs": [
    {
     "name": "stderr",
     "output_type": "stream",
     "text": [
      "/tmp/ipykernel_188370/815093683.py:2: SymPyDeprecationWarning: \n",
      "\n",
      "Eq(expr) with a single argument with the right-hand side\n",
      "defaulting to 0 is deprecated. Use Eq(expr, 0) instead.\n",
      "\n",
      "See https://docs.sympy.org/latest/explanation/active-deprecations.html#deprecated-eq-expr\n",
      "for details.\n",
      "\n",
      "This has been deprecated since SymPy version 1.5. It\n",
      "will be removed in a future version of SymPy.\n",
      "\n",
      "  sympy.Eq(ode) # soluciónd e la ecuacion\n"
     ]
    },
    {
     "data": {
      "image/png": "[encoded data removed]",
      "text/latex": [
       "$\\displaystyle k \\left(- T_{a} + T{\\left(t \\right)}\\right) + \\frac{d}{d t} T{\\left(t \\right)} = 0$"
      ],
      "text/plain": [
       "                 d           \n",
       "k⋅(-Tₐ + T(t)) + ──(T(t)) = 0\n",
       "                 dt          "
      ]
     },
     "execution_count": 8,
     "metadata": {},
     "output_type": "execute_result"
    }
   ],
   "source": [
    "ode = T(t).diff(t) + k*(T(t) - Ta) # ecuación que queremos resolver igualda a cero\n",
    "sympy.Eq(ode) # creacion de la ecuacion "
   ]
  },
  {
   "cell_type": "code",
   "execution_count": 12,
   "id": "78898e83",
   "metadata": {},
   "outputs": [
    {
     "data": {
      "image/png": "[encoded data removed]",
      "text/latex": [
       "$\\displaystyle T{\\left(t \\right)} = C_{1} e^{- k t} + T_{a}$"
      ],
      "text/plain": [
       "           -k⋅t     \n",
       "T(t) = C₁⋅ℯ     + Tₐ"
      ]
     },
     "execution_count": 12,
     "metadata": {},
     "output_type": "execute_result"
    }
   ],
   "source": [
    "de_sol = sympy.dsolve(ode)# solucion general de ela ecuacion\n",
    "de_sol"
   ]
  },
  {
   "cell_type": "markdown",
   "id": "e8742356",
   "metadata": {},
   "source": [
    "Para acceder a los atributos de de_sol, derecho o izquierdo podemos usar .lhs o .rhs"
   ]
  },
  {
   "cell_type": "code",
   "execution_count": 14,
   "id": "1f4c3c1a",
   "metadata": {},
   "outputs": [
    {
     "data": {
      "image/png": "[encoded data removed]",
      "text/latex": [
       "$\\displaystyle T{\\left(t \\right)}$"
      ],
      "text/plain": [
       "T(t)"
      ]
     },
     "execution_count": 14,
     "metadata": {},
     "output_type": "execute_result"
    }
   ],
   "source": [
    "de_sol.lhs"
   ]
  },
  {
   "cell_type": "code",
   "execution_count": null,
   "id": "1498181e",
   "metadata": {},
   "outputs": [],
   "source": []
  }
 ],
 "metadata": {
  "kernelspec": {
   "display_name": "Python 3 (ipykernel)",
   "language": "python",
   "name": "python3"
  },
  "language_info": {
   "codemirror_mode": {
    "name": "ipython",
    "version": 3
   },
   "file_extension": ".py",
   "mimetype": "text/x-python",
   "name": "python",
   "nbconvert_exporter": "python",
   "pygments_lexer": "ipython3",
   "version": "3.10.4"
  }
 },
 "nbformat": 4,
 "nbformat_minor": 5
}
